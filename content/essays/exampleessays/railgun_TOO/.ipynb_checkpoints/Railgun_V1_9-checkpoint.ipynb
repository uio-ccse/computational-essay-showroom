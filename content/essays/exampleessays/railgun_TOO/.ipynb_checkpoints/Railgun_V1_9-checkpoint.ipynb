{
 "cells": [
  {
   "cell_type": "markdown",
   "metadata": {},
   "source": [
    "# How much electric current would you need to use a railgun to launch a package up to the ISS?"
   ]
  },
  {
   "cell_type": "markdown",
   "metadata": {},
   "source": [
    "A computational essay by Tor Ole Odden, postdoc at the University of Oslo's *Center for Computing in Science Education* \n",
    "\n",
    "Email: t.o.odden@fys.uio.no"
   ]
  },
  {
   "cell_type": "markdown",
   "metadata": {},
   "source": [
    "## Introduction: What is a Railgun?"
   ]
  },
  {
   "cell_type": "markdown",
   "metadata": {},
   "source": [
    "A railgun is a device that uses magnetic forces to accelerate a projectile to extremely high speeds. In the simplest case, it consists of two parallel, current-carrying rails (wires, essentially) with a moveable, conductive bar (the projectile launched by the railgun) between them. The bar, because it is a conductive, experiences a force due to the magenetic fields of the rails, which accelerates it.\n",
    "\n",
    "The United States navy has recently debuted a 10-meter long railgun that can launch a 3.2 kg projectile at speeds up to 2500 m/s. Railguns are exciting, because theoretically they could represent a viable alternative to expensive chemical propulsion methods. While there are certainly many military applications to this type of system, one might also be able to use it for scientific purposes, such as launching satellites and supplies into orbit without the need for expensive, one-time-use rockets. However, how viable are railguns for these types of applications?\n",
    "\n",
    "In this notebook, we aim to estimate how much current one would need in order to use such a railgun to launch a 1kg package of supplies to the ISS, which is approximately 405 km above the surface of the earth. We will create a simple simulation of this system, then add in some complicating factors to try to get a more accurate calculation."
   ]
  },
  {
   "cell_type": "markdown",
   "metadata": {},
   "source": [
    "![RailgunPic.jpg](images/RailgunPic.jpg)"
   ]
  },
  {
   "cell_type": "markdown",
   "metadata": {},
   "source": [
    "The US Navy's Electromagnetic Railgun\n",
    "(From [popular mechanics](https://www.popularmechanics.com/military/research/a14106941/us-navy-railgun-may-be-dead/))"
   ]
  },
  {
   "cell_type": "markdown",
   "metadata": {},
   "source": [
    "## Initial Simulation of the Railgun"
   ]
  },
  {
   "cell_type": "markdown",
   "metadata": {},
   "source": [
    "First, we have to import our various libraries. We will be using sympy and numpy for the graphing, as well as matplotlib."
   ]
  },
  {
   "cell_type": "code",
   "execution_count": 1,
   "metadata": {},
   "outputs": [],
   "source": [
    "import sympy as sp\n",
    "import numpy as np\n",
    "import matplotlib.pyplot as plt"
   ]
  },
  {
   "cell_type": "markdown",
   "metadata": {},
   "source": [
    "Next, we define some parameters, including the current in the rails, the separation of the rails (which is also the width of the projectile), the lengths of the rails, and the mass of the projectile.\n",
    "\n",
    "Using the [approximate dimensions](https://ndiastorage.blob.core.usgovcloudapi.net/ndia/2003/gun/ellis.pdf) of the navy railgun as a guide, we set the length of the rails to 10m and the separation of the rails to 15cm (corresponding to a 150mm bore railgun). We will also define the mass of the projectile (1 kg) and the magnetic constant for use in magnetic force calculations later on."
   ]
  },
  {
   "cell_type": "code",
   "execution_count": 2,
   "metadata": {},
   "outputs": [],
   "source": [
    "D = .15 #separation of the rails and width of the bar. Set to 15cm\n",
    "w = 0.1 #width of the rails. Set to 10cm each\n",
    "L = 10 #length of the rails. Set to 10m\n",
    "m = 1 #set mass to 1kg\n",
    "I = 10000 #starting current. Set to 10000 Amps"
   ]
  },
  {
   "cell_type": "markdown",
   "metadata": {},
   "source": [
    "![Railgun_Diagram.jpg](images/Railgun_Diagram.jpg)"
   ]
  },
  {
   "cell_type": "markdown",
   "metadata": {},
   "source": [
    "Next, we define the position of the bar and the incremental quantities. We will have to have both a timestep (since this simulation will involve accelerating the supply projectile over time) and a length step (which we will use to cut up the projectile to calculate the magentic force)."
   ]
  },
  {
   "cell_type": "code",
   "execution_count": 3,
   "metadata": {},
   "outputs": [],
   "source": [
    "barpos = 0 #initial position of the bar (the projectile)\n",
    "dt=.00001 #initial timestep 0.00001s\n",
    "t=0 #time starts at 0\n",
    "v=0 #initial velocity set to 0"
   ]
  },
  {
   "cell_type": "markdown",
   "metadata": {},
   "source": [
    "Now, we will need a way to calculate the force on the bar/projectile. This will require some derivation."
   ]
  },
  {
   "cell_type": "markdown",
   "metadata": {},
   "source": [
    "## Calculating the force on the bar"
   ]
  },
  {
   "cell_type": "markdown",
   "metadata": {},
   "source": [
    "Assuming the rails are long, we can treat them as essentially infinite wires, in which case the magnitudes of their magnetic fields can be expressed as $$B_{rail} = \\frac{\\mu_0}{2 \\pi}\\frac{I}{r}$$\n",
    "\n",
    "Cutting the bar between the rails into little slices of length $dr$, with current $I$ running through the entire system, we can express the magnitude of magnetic force on one small part of the bar, $\\lvert dF_{B}\\lvert$, as $$ dF_{B}= IdrB $$\n",
    "\n",
    "(Here I'm ignoring the vector notation, noting that both of the rails will contribute forces on the bar in the same direction)\n",
    "\n",
    "Now, we can combine these two expressions and integrate across the length of the bar. We will assume, as mentioned above, that each rail has width w, the bar has width D, and the current is running down the middle of the rail. Then, the force on the bar due to _one_ rail will be\n",
    "\n",
    "$$\\frac{\\mu_0}{2 \\pi}I^2 \\int_{\\frac{w}{2}}^{D+\\frac{w}{2}} \\frac{1}{r}dr$$ $$=\\frac{\\mu_0}{2 \\pi}I^2 \\big(\\ln(D+\\frac{w}{2})-\\ln(\\frac{w}{2})\\big)$$\n",
    "\n",
    "This gets us the force due to one rail. However, both rails are contributing the same force on the bar, doubling this force and leaving us with the final expression\n",
    "\n",
    "$$F_{B}=2\\frac{\\mu_0}{2 \\pi}I^2 \\big(\\ln(D+\\frac{w}{2})-\\ln(\\frac{w}{2})\\big)$$\n"
   ]
  },
  {
   "cell_type": "markdown",
   "metadata": {},
   "source": [
    "\n",
    "\n",
    "Also note that based on this derivation, it appears that we will frequently be using the constant $\\frac{\\mu_0}{2 \\pi}$. So, let's also define that."
   ]
  },
  {
   "cell_type": "code",
   "execution_count": 4,
   "metadata": {},
   "outputs": [],
   "source": [
    "Muover2pi = 2e-7 #magnetic constant"
   ]
  },
  {
   "cell_type": "markdown",
   "metadata": {},
   "source": [
    "Now, let's put it all together and use the program to calculate the velocity of the bar under the simplest possible condition: a frictionless environment with infinite conducting rails (i.e., ignoring edge effects when the bar approaches the ends of the rails) and ignoring any other factors that might slow down the rail. This will be our best-case scenario.\n",
    "\n",
    "We create a loop that repeatedly calculates the magnetic force on the bar based on the above derivation, and uses that force to update the velocity of the bar."
   ]
  },
  {
   "cell_type": "code",
   "execution_count": 5,
   "metadata": {},
   "outputs": [
    {
     "name": "stdout",
     "output_type": "stream",
     "text": [
      "33.30211766054752\n"
     ]
    }
   ],
   "source": [
    "while barpos < L:\n",
    "    Fnet = 2*Muover2pi*(I**2)*(np.log(D+w/2)-np.log(w/2)) #Based on our calculated expression for the force on the bar\n",
    "    v = v + Fnet/m*dt #Update the velocity of the bar\n",
    "    barpos = barpos + v*dt #Use velocity to update position\n",
    "print(v) #Print the final value of the velocity\n"
   ]
  },
  {
   "cell_type": "markdown",
   "metadata": {},
   "source": [
    "It appears that a current of 10000 amps will give us a velocity of ~33 m/s. However, to lob something up to the ISS, we need a velocity of at least **~2733 m/s** (based on a quick calculation of the potential energy required to ascend 405km above the earth's surface, ignoring air resistance). So, we're going to need a lot more current!"
   ]
  },
  {
   "cell_type": "markdown",
   "metadata": {},
   "source": [
    "## Finding the right current to launch a package up to the ISS"
   ]
  },
  {
   "cell_type": "markdown",
   "metadata": {},
   "source": [
    "Now, our goal is to find the current required to launch a 1-kg package straight upwards to the ISS. Rather than doing this in a guess-and-check fashion, we'll do the loop multiple times see how high it has to go to reach the requisite velocity. This means we will have to define a new variable, the starting current. Since we have already seen that 10000 amps gives us a value several orders of magnitude below the required velocity, we will start an order of magnitude above, at 100,000 A, and begin the search there."
   ]
  },
  {
   "cell_type": "code",
   "execution_count": 6,
   "metadata": {},
   "outputs": [],
   "source": [
    "I_start = 100000 #Starting current. Set to 100,000 Amps\n",
    "I = I_start #Set the current to this starting value\n",
    "v=0 #Reset the velocity to 0 for the first loop\n",
    "\n",
    "v_goal = 2733 #The final velocity we're aiming to achieve"
   ]
  },
  {
   "cell_type": "code",
   "execution_count": 7,
   "metadata": {},
   "outputs": [
    {
     "name": "stdout",
     "output_type": "stream",
     "text": [
      "For a velocity of 2743.527458597128 m/s you need a current of 824387.2036334316 amps.\n"
     ]
    }
   ],
   "source": [
    "while v <= v_goal:\n",
    "    barpos = 0 #Reset the position of the bar to 0\n",
    "    v=0 #Initial velocity set to 0 after each loop iteration\n",
    "    \n",
    "    while barpos < L: \n",
    "        Fnet = 2*Muover2pi*(I**2)*(np.log(D+w/2)-np.log(w/2))\n",
    "        v = v + Fnet/m*dt\n",
    "        barpos = barpos + v*dt\n",
    "    I = I*1.01 #Increase the current by 1% each loop.\n",
    "print(\"For a velocity of\", v, \"m/s you need a current of\", I/1.01, \"amps.\")"
   ]
  },
  {
   "cell_type": "markdown",
   "metadata": {},
   "source": [
    "So, based on these results, in an ideal, extremely simplified scenario we would need a little less than 825,000 Amps of current in order to launch 1kg up to the ISS (within a tolerance of 1%)\n",
    "\n",
    "However, this is the most ideal scenario, ignoring many of the factors that would cost extra energy to overcome (for example: air resistance, electromagnetic induction, gravitational acceleration while the package is being launched, and the resistance/inductance of the rails). How do these factors change the amount of current required? "
   ]
  },
  {
   "cell_type": "markdown",
   "metadata": {},
   "source": [
    "## Adding some complicating factors: gravity and EM induction"
   ]
  },
  {
   "cell_type": "markdown",
   "metadata": {},
   "source": [
    "Our first change is easy: add in the force of gravity during the launch (the time when the bar is actually touching the rails). To do this, we will add a factor of $ -9.8 m$ to the line of code where we calculate the net force. However, the launch window is so short that this is unlikely to make a significant difference to our final result."
   ]
  },
  {
   "cell_type": "markdown",
   "metadata": {},
   "source": [
    "More significant is the effect of electromagnetic induction on the system. In a system like this, we have a changing magentic flux through the loop created by the power supply, the rails, and the bar. This changing magnetic flux will create a current that will act to oppose (reduce) the current flowing through the system. How does that induced change our final velocity?\n",
    "\n",
    "To add this into our simulation, we will first have to find an expression for the induced current in the system, which means finding an expression for the magnetic flux inside the loop created by the rails, power supply, and projectile. To do this, we can define the area of the loop as $D*x$ where $x$ is the distance that the bar has traveled along the rails so far. We will again assume that the magnetic field of the rails is given by\n",
    "\n",
    "$$B_{rail} = \\frac{\\mu_0}{2 \\pi}\\frac{I}{r}$$\n",
    "\n",
    "Integrating this across the length of the bar D, we get the following expression for the magnetic flux:\n",
    "\n",
    "$$\\Phi_{B}=2\\frac{\\mu_0}{2 \\pi}I \\big(\\ln(D+\\frac{w}{2})-\\ln(\\frac{w}{2})\\big) x$$\n",
    "\n",
    "Now, according to Lenz's law, the EMF around a closed loop is equal to the negative rate of change of the magnetic flux through the area enclosed by the loop:\n",
    "\n",
    "$$ \\varepsilon_{induced}=-\\frac{d\\Phi_{B}}{dt}$$\n",
    "\n",
    "Assuming a low-to-negligible resistance, like 1$\\Omega$ (a big assumption, but one we'll make here), this means\n",
    "\n",
    "$$ I_{induced}=-\\frac{d\\Phi_{B}}{dt}$$\n",
    "\n",
    "Taking the time derivative of the above expression for $\\Phi_{B}$, we are left with\n",
    "\n",
    "$$I_{induced}=-2\\frac{\\mu_0}{2 \\pi}I \\big(\\ln(D+\\frac{w}{2})-\\ln(\\frac{w}{2})\\big)\\frac{dx}{dt}$$\n",
    "$$=-2\\frac{\\mu_0}{2 \\pi}I \\big(\\ln(D+\\frac{w}{2})-\\ln(\\frac{w}{2})\\big)v$$ \n",
    "\n",
    "Where $v$ is the velocity of the bar.\n",
    "\n",
    "Now, let's add these two expressions into our simulation. The gravity term will be subtracted off the net force, and the induced current term will be subtracted off our current within the loop."
   ]
  },
  {
   "cell_type": "code",
   "execution_count": 8,
   "metadata": {},
   "outputs": [],
   "source": [
    "I_start = 100000 #Starting current. Set to 100000 Amps\n",
    "I = I_start #Set the current to this starting value\n",
    "v = 0 #Reinitialize the velocity for the first loop iteration\n",
    "v_goal = 2733"
   ]
  },
  {
   "cell_type": "code",
   "execution_count": 9,
   "metadata": {},
   "outputs": [
    {
     "name": "stdout",
     "output_type": "stream",
     "text": [
      "For a velocity of 2737.0122483673435 m/s you need a current of 1057220.5262223003 amps.\n"
     ]
    }
   ],
   "source": [
    "while v <= v_goal:\n",
    "    barpos = 0 #reset the position of the bar to 0\n",
    "    v=0 #initial velocity set to 0\n",
    "    \n",
    "    while barpos < L: #while loop, to animate the bar\n",
    "        I = I - 2*Muover2pi*I*(np.log(D+w/2)-np.log(w/2))*v #update the current, subtracting the induced current\n",
    "        Fnet = 2*Muover2pi*(I**2)*(np.log(D+w/2)-np.log(w/2))-9.8*m\n",
    "        v = v + Fnet/m*dt\n",
    "        barpos = barpos + v*dt\n",
    "        t = t+dt\n",
    "    I_start = I_start*1.01\n",
    "    I = I_start\n",
    "print(\"For a velocity of\", v, \"m/s you need a current of\", I/1.01, \"amps.\")"
   ]
  },
  {
   "cell_type": "markdown",
   "metadata": {},
   "source": [
    "Our new current is approximately 1,060,000 amps, corresponding to an increase of about 28% above the calculated current without gravity and induction."
   ]
  },
  {
   "cell_type": "markdown",
   "metadata": {},
   "source": [
    "## Conclusion"
   ]
  },
  {
   "cell_type": "markdown",
   "metadata": {},
   "source": [
    "Based on this extremely simplified model, it seems we would need a bit over a million amps of current in order to launch a 1kg package up to the ISS with a railgun. Note, however, that this is a very generous estimate; an actual system would also have to deal with complicating factors like\n",
    "* Resistance of rails\n",
    "* Inductance of rails\n",
    "* Air drag after launch (assuming a vacuum inside launch tube)\n",
    "* Power dissipation due to heat\n",
    "* Friction between rails and bar\n",
    "* Repulsion between the two rails\n",
    "\n",
    "...not to mention the difficulty of launching the package close enough to the ISS to be picked up without hitting the station itself.\n",
    "\n",
    "These additional factors are likely to make this form of orbital supply unfeasable for any reasonably-sized supply package (which is also likely be several tens of kilograms, minimum).\n"
   ]
  },
  {
   "cell_type": "code",
   "execution_count": null,
   "metadata": {},
   "outputs": [],
   "source": []
  }
 ],
 "metadata": {
  "kernelspec": {
   "display_name": "VPython",
   "language": "python",
   "name": "vpython"
  },
  "language_info": {
   "codemirror_mode": {
    "name": "ipython",
    "version": 3
   },
   "file_extension": ".py",
   "mimetype": "text/x-python",
   "name": "python",
   "nbconvert_exporter": "python",
   "pygments_lexer": "ipython3",
   "version": "3.6.4"
  }
 },
 "nbformat": 4,
 "nbformat_minor": 2
}
