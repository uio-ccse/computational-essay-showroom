{
 "cells": [
  {
   "cell_type": "markdown",
   "metadata": {},
   "source": [
    "# Simulating CERNs Particle Accelerator \n",
    "\n",
    "**A Computational Essay by Erlend Tiberg North and Linn Margrethe Rykkje, University of Oslo**\n",
    "\n",
    "## Introduction\n",
    "\n",
    "The code below aims to simulate a version of CERNs accelerator complex, which, in our simplified model, consists of a linear accelerator (LINAC), a proton synchrotron (PS) and the large hadron collider (LHC).\n",
    "Initially, the provided code concerned a cyclotron; however, since CERNs actual particle accelerator uses a synchrotron, an adaptation descended from the cyclotron, this is the primary focus of the investigation. \n",
    "\n",
    "__Background__\n",
    "\n",
    "Explained simply, the accelerator complex consists of a sequence of machines that cumulatively accelerate particles close to the speed of light. In the case of protons, the protons are retrieved from a bottle of hydrogen gas by using an electric field to strip away their electrons. LINAC 2, the first accelerator in the chain, accelerates the protons to a determined velocity, before sending the beam into a Proton Synchrotron Booster (PBS), followed by the Proton Synchrotron (PS) and then the Super Proton Synchrotron (SPS). When protons exit the SPS, they are injected into two beam pipes of the LHC at a speed of 0.87c. After further acceleration to their maximum kinetic energy, the beams are brought into collision at a speed of 0.99999c! "
   ]
  },
  {
   "cell_type": "markdown",
   "metadata": {},
   "source": [
    "![Diagram of the Cern Complex](https://lhc-machine-outreach.web.cern.ch/lhc-machine-outreach/images/complex/Cern-complex.gif)"
   ]
  },
  {
   "cell_type": "markdown",
   "metadata": {},
   "source": [
    "__Aim__\n",
    "\n",
    "Our aim is to simulate the particle accelerator; in doing so we have simplified the complex by only including the first LINAC, the PS and the LHC, although the actual system consists of many more components. We attempted to model LINAC2, the PS and the LHC as closely as possible from real values, but also had to make some assumptions. In the end we consider relativistic factors and compare the effects of these to the perfectly ideal situation. \n",
    " "
   ]
  },
  {
   "cell_type": "markdown",
   "metadata": {},
   "source": [
    "## Developing the Model\n",
    "\n",
    "__Linear Accelerator 2__\n",
    "\n",
    "The regular LINAC uses an electric field, indirectly defined by a potential difference, $U_0$, and accelerates the proton over a given distance $l$ such that it enters the first PS with a speed of $0.3c$. First we need to know what potential difference must be applied in order to achieve this. Using the relation between electric field, potential and force, we derive the following: \n"
   ]
  },
  {
   "cell_type": "markdown",
   "metadata": {},
   "source": [
    "$$ \n",
    "F = qE = ma\n",
    "\\\\\n",
    "E = \\frac{U_0}{l}\n",
    "\\\\\n",
    "a = \\frac{qE}{m} = \\frac{qU_0}{lm} \n",
    "\\\\\n",
    "$$\n",
    "\n",
    "Then, using motion equations: \n",
    "$$\n",
    "v^2 = v_0 + 2al \n",
    "\\\\\n",
    "v^2 = 2\\frac{qU_0}{lm}l \n",
    "\\\\\n",
    "U_0 = \\frac{1}{2} \\frac{mv^2}{q} \n",
    "$$\n",
    "\n",
    "where $v$ is the desired final speed. \n",
    "\n",
    "We import the standard libraries and define the input variables for the potential to calculate the initial voltage. \n"
   ]
  },
  {
   "cell_type": "code",
   "execution_count": 1,
   "metadata": {},
   "outputs": [
    {
     "name": "stdout",
     "output_type": "stream",
     "text": [
      "Voltage of LINAC2 is: 4.199053e+07 V\n"
     ]
    }
   ],
   "source": [
    "import numpy as np\n",
    "import matplotlib.pyplot as plt \n",
    "\n",
    "\"\"\"Defining variables for LINAC2\"\"\"\n",
    "c = 2.99*10**8 #Set the speed of light\n",
    "q = 1.6e-19 #Set the charge of the particle to the charge of a proton\n",
    "m0 = 1.67e-27 #Set mass of the particle to the mass of a proton\n",
    "\n",
    "v0 = 0.3*c #Set wanted exit speed of LINAC2\n",
    "l0 = 500 #Set length of LINAC2\n",
    "U0 = 1/2*(m0*v0**2)/(q) #Set voltage of LINAC2\n",
    "print(\"Voltage of LINAC2 is: %e V\" % U0)"
   ]
  },
  {
   "cell_type": "markdown",
   "metadata": {},
   "source": [
    "__Proton Synchrotron__\n",
    "\n",
    "The PS accelerates the protons whilst also keeping them on a circular path with constant radius, as opposed to the cyclotron where the particles spiral outwards. In our model, the protons are briefly accelerated by a \"mini-LINAC\" before passing through a set of dipoles. These dipoles are what keep the radius of the motion constant; they direct the beams around the ring by applying a magnetic field proportional to the velocity of the protons. In real life, CERNs PS consists of 100 of such dipoles in addition to 277 conventional electromagnets, distributed over a circumference of 628 meters. Since the conventional electromagnets' sole purpose is to focus the protons into a fine beam, we decided to not include them in our model. We also assume that the mini-LINAC and dipole appear alternatingly. \n",
    "\n",
    "Since the protons' velocity increase in each mini-LINAC, the magnetic field strength must increase proportionately to keep bending the beam the same number of degrees. We thus need a magnetic field strength that varies with the velocity $v$. \n",
    "\n",
    "For the protons to stay on a circular path, they must have a sentripetal acceleration, which we want the magnetic force to be responsible for; i.e. the magnetic force points radially in towards the center of the PS. The relevant velocity will always be tangential to the circle and thus perpendicular to the magnetic force. If the protons circulate clockwise, the magnetic field we set up must be in the positive $\\hat{z}$-direction (out of the plane). \n",
    "\n",
    "First considering the magnitudes we find that the magnetic field strength must be given by, "
   ]
  },
  {
   "cell_type": "markdown",
   "metadata": {},
   "source": [
    "\n",
    "$$\n",
    "F = ma = qvB = m\\frac{v^2}{r} \\\\\n",
    "B = \\frac{mv}{qr} \\\\\n",
    "\\implies \\vec{B} = \\frac{mv}{qr} \\hat{z}\n",
    "$$\n",
    "\n",
    "\n",
    "Again, we set the condition that the protons must reach a desired velocity (this time 0.87c) before they are released to the LHC through a proton transfer tube (PTT). This time we choose the potential difference arbitrarily.  \n"
   ]
  },
  {
   "cell_type": "code",
   "execution_count": 2,
   "metadata": {},
   "outputs": [
    {
     "name": "stdout",
     "output_type": "stream",
     "text": [
      "Voltage of PS is: 4.200000e+04 V\n"
     ]
    }
   ],
   "source": [
    "\"\"\"Defining variables for the PS\"\"\"\n",
    "v1 = 0.87*c #Set wanted exit speed of PS\n",
    "l1 = 3 #Set length of MINI-LINACs for the PS\n",
    "U1 = 4.2e4 #Set voltage of MINI-LINACs for the PS\n",
    "print(\"Voltage of PS is: %e V\"  % U1)\n",
    "r1 = 1000 #Set radius of PS"
   ]
  },
  {
   "cell_type": "markdown",
   "metadata": {},
   "source": [
    "__Large Hadron Collider__ \n",
    "\n",
    "The LHC is modeled in the same manner as the PS. With a circumference of 27km, it is much larger than the PS and is capable of accelerating the protons to a speed of $0.99999c$. In the LHC, there are two beams of protons that travel in opposite directions so that when the desired speed is reached, the two beams are made to collide at the position of a particle detector. "
   ]
  },
  {
   "cell_type": "code",
   "execution_count": 3,
   "metadata": {},
   "outputs": [
    {
     "name": "stdout",
     "output_type": "stream",
     "text": [
      "Voltage of LHC is: 2.500000e+03 V\n",
      "\n"
     ]
    }
   ],
   "source": [
    "\"\"\"Defining variables for the LHC\"\"\"\n",
    "v2 = c #Set wanted speed achieved in the LHC\n",
    "l2 = 3 #Set length of MINI-LINACs for the LHC\n",
    "U2 = 2.5e3 #Set voltage of MINI-LINACs for the LHC\n",
    "print(\"Voltage of LHC is: %e V\\n\" % U2)\n",
    "r2 = 4250 #Set radius of LHC"
   ]
  },
  {
   "cell_type": "markdown",
   "metadata": {},
   "source": [
    "## Simulation of the Particle Accelerator\n",
    "\n",
    "First we set up the needed variables and arrays for the simulation. "
   ]
  },
  {
   "cell_type": "code",
   "execution_count": 4,
   "metadata": {},
   "outputs": [],
   "source": [
    "\"\"\"Initializing simulation\"\"\"\n",
    "\n",
    "t = 0 #Initialize time to 0\n",
    "dt = 5e-9 #Set timestep to 5 nanoseconds\n",
    "\n",
    "particlepos = np.array([0.0,0.0,0.0]) #Set the initial postition of the particle, starting in LINAC2\n",
    "particlev = np.array([1e-12,1e-12,0.0]) #Set the initial speed of the particle, starting from rest in LINAC2"
   ]
  },
  {
   "cell_type": "markdown",
   "metadata": {},
   "source": [
    "Although the proton is supposed to start from rest in LINAC2, it needs a small initial velocity to avoid computing-error when calculating the norm of the vector in the function for LINAC. \n",
    "\n",
    "We decided to write functions for the LINAC and PS, as this enables us to more easily call on them with varying input variables. Both functions utilize Euler's method; first calculating the force acting on the protons (electric in the LINAC and electromagnetic in the PS) and then estimating the acceleration, velocity and position by integrating in time. \n",
    "\n"
   ]
  },
  {
   "cell_type": "code",
   "execution_count": 5,
   "metadata": {},
   "outputs": [],
   "source": [
    "\"\"\"Function for LINAC\"\"\"\n",
    "def linac(U,l,m0,q,pos,v,v1,t,dt):\n",
    "\n",
    "    posx = [pos[0]]\n",
    "    posy = [pos[1]]\n",
    "    speed = [np.linalg.norm(v)]\n",
    "    i = 0\n",
    "\n",
    "    while (np.linalg.norm(v) < v1):\n",
    "\n",
    "        Fnet = (U*q)/l * v/np.linalg.norm(v)\n",
    "\n",
    "        v = v + Fnet*dt/m0\n",
    "        pos = pos + v*dt\n",
    "\n",
    "        posx = np.append(posx,pos[0])\n",
    "        posy = np.append(posy,pos[1])\n",
    "        speed = np.append(speed, np.linalg.norm(v))\n",
    "\n",
    "        i += 1\n",
    "        t += dt\n",
    "\n",
    "        if np.linalg.norm(v) >= v1:\n",
    "            print(\"Reached %.0f m\" % np.linalg.norm(pos))\n",
    "            print(\"Reached %.2f%% of light speed in %0.f iterations. Time passed: %.2e seconds\" % ((np.linalg.norm(v)/c*100), i, t))\n",
    "            break\n",
    "        elif np.linalg.norm(pos) >= l - 1E-5:\n",
    "            print(\"Did not reach speed in 50 m\")\n",
    "            print(\"Final speed was %.2f%% of light speed in %0.f iterations. Time passed: %.2e seconds\" % ((np.linalg.norm(v)/c*100), i, t))\n",
    "            break\n",
    "            \n",
    "    return posx, posy, pos, v, speed, t"
   ]
  },
  {
   "cell_type": "code",
   "execution_count": 6,
   "metadata": {},
   "outputs": [],
   "source": [
    "\"\"\"Function for a synchrotron\"\"\"\n",
    "def synchrotron(r,l,U,pos,v,v1,m0,q,clockwise,t,dt,t0):\n",
    "    \"\"\"Simulation of a Synchrotron. Calculates the forces on a particle from a\n",
    "    mini-LINAC and from a dipole, and integrates its motion by utilizing Euler\"\"\"\n",
    "    posx = [pos[0]]\n",
    "    posy = [pos[1]]\n",
    "    speed = [np.linalg.norm(v)]\n",
    "    i = 0\n",
    "\n",
    "    while (np.linalg.norm(v) < v1):\n",
    "        \n",
    "        if clockwise:\n",
    "            B = np.array([0.0,0.0,(m0*np.linalg.norm(v))/(q*r)])\n",
    "        else:\n",
    "            B = np.array([0.0,0.0,-(m0*np.linalg.norm(v))/(q*r)])\n",
    "        \n",
    "        Fnet = (U*q)/l * (v)/(np.linalg.norm(v))\n",
    "        Fnet += q*np.cross(v,B)\n",
    "\n",
    "        v = v + Fnet*dt/m0\n",
    "        pos = pos + v*dt\n",
    "\n",
    "        posx = np.append(posx,pos[0])\n",
    "        posy = np.append(posy,pos[1])\n",
    "        speed = np.append(speed, np.linalg.norm(v))\n",
    "\n",
    "        t += dt\n",
    "        i += 1\n",
    "\n",
    "        if i >= 100000:\n",
    "            print(\"Did not reach %.f%% of light speed within %0.f iterations\" % ((np.linalg.norm(v1)/c*100),i))\n",
    "            break\n",
    "\n",
    "    print(\"Reached %.2f%% of light speed in %.0f iterations. Time passed: %.2e seconds\" % ((np.linalg.norm(v)/c*100), i, t))\n",
    "\n",
    "    return posx, posy, pos, v, speed, t"
   ]
  },
  {
   "cell_type": "markdown",
   "metadata": {},
   "source": [
    "Now we can actually make use of everything! \n",
    "\n",
    "We call on the functions for each component of the particle accelerator and store the returned arrays/lists for plotting purposes. "
   ]
  },
  {
   "cell_type": "code",
   "execution_count": 7,
   "metadata": {},
   "outputs": [
    {
     "name": "stdout",
     "output_type": "stream",
     "text": [
      "\n",
      "LINAC2:\n",
      "Reached 500 m\n",
      "Reached 30.00% of light speed in 2230 iterations. Time passed: 1.12e-05 seconds\n",
      "\n",
      "Proton Synchrotron:\n",
      "Reached 87.00% of light speed in 25103 iterations. Time passed: 1.37e-04 seconds\n",
      "\n",
      "Proton Transfer Tube:\n",
      "Transfered Proton successfully from Proton Synchrotron to Large Hadron Collider\n",
      "\n",
      "Large Hadron Collider:\n",
      "Reached 100.00% of light speed in 93793 iterations. Time passed: 6.08e-04 seconds\n"
     ]
    }
   ],
   "source": [
    "\"\"\"Calling on functions for all components\"\"\"\n",
    "\n",
    "#Linear Accelerator 2\n",
    "print(\"\\nLINAC2:\")\n",
    "particleposxLINAC2, particleposyLINAC2, particlepos, particlev, particlespeedLINAC2, t  = linac(U0,l0,m0,q,particlepos,particlev,v0,t,dt) #Calls the linac function with given variables to simulate CERN's LINAC2\n",
    "t0 = t\n",
    "\n",
    "#Proton Synchrotron\n",
    "print(\"\\nProton Synchrotron:\")\n",
    "particleposxPS, particleposyPS, particlepos, particlev, particlespeedPS, t = synchrotron(r1,l1,U1,particlepos,particlev,v1,m0,q,False,t,dt,-1) #Calls the synchrotron function with given variables to simulate CERN's Proton Synchrotron\n",
    "t1 = t\n",
    "\n",
    "#Proton Transfer Tube\n",
    "print(\"\\nProton Transfer Tube:\")\n",
    "particleposxPTT = [particlepos[0]]\n",
    "particleposyPTT = [particlepos[1]]\n",
    "for i in range(500):\n",
    "    particlepos += particlev*dt #Integrate the position of a particle using Euler\n",
    "    particleposxPTT = np.append(particleposxPTT, particlepos[0]) #append the x position to the x-position list\n",
    "    particleposyPTT = np.append(particleposyPTT, particlepos[1]) #append the y position to the y-position list\n",
    "    t += dt\n",
    "print(\"Transfered Proton successfully from Proton Synchrotron to Large Hadron Collider\")\n",
    "\n",
    "#Large Hadron Collider\n",
    "print(\"\\nLarge Hadron Collider:\")\n",
    "particleposxLHC, particleposyLHC, particlepos, particlev, particlespeeedLHC, t = synchrotron(r2,l2,U2,particlepos,particlev,c,m0,q,True,t,dt,-1)\n"
   ]
  },
  {
   "cell_type": "markdown",
   "metadata": {},
   "source": [
    "Lastly, we'd like to observe the motion of the protons as they move through the particle accelerator complex. The first code below is a simple 2-dimensional plot showing the x- and y-position of the protons."
   ]
  },
  {
   "cell_type": "code",
   "execution_count": 8,
   "metadata": {},
   "outputs": [
    {
     "data": {
      "image/png": "[encoded data removed]",
      "text/plain": [
       "<Figure size 432x288 with 1 Axes>"
      ]
     },
     "metadata": {
      "needs_background": "light"
     },
     "output_type": "display_data"
    }
   ],
   "source": [
    "\"\"\"Regular plot showing motion, non-relativistic\"\"\"\n",
    "plt.plot(particleposxLINAC2[0], particleposyLINAC2[0], \"o\", label=\"LINAC2 Entry\")\n",
    "plt.plot(particleposxLINAC2, particleposyLINAC2, \"b\", label=\"LINAC2 Trajectory\") #create the plot\n",
    "plt.plot(particleposxLINAC2[-1], particleposyLINAC2[-1], \"o\", label=\"LINAC2 Exit/PS Entry\")\n",
    "\n",
    "plt.plot(particleposxPS, particleposyPS, \"g\", label=\"PS Trajectory\") #create the plot\n",
    "plt.plot(particleposxPS[-1], particleposyPS[-1], \"o\", label=\"PS Exit\")\n",
    "\n",
    "plt.plot(particleposxPTT, particleposyPTT, \"r\", label=\"PTT Trajectory\") #create the plot\n",
    "\n",
    "plt.plot(particleposxLHC[0], particleposyLHC[0], \"o\", label=\"LHC Entry\")\n",
    "plt.plot(particleposxLHC, particleposyLHC, \"k\" , label=\"LHC Trajectory\") #create the plot\n",
    "plt.plot(particleposxLHC[-1], particleposyLHC[-1], \"oy\", label=\"End of the Proton's Journey\")\n",
    "\n",
    "plt.xlabel(\"x position [m]\")\n",
    "plt.ylabel(\"y position [m]\")\n",
    "plt.title(\"Trajectory of a proton in a Particle Accelerator\")\n",
    "plt.legend()\n",
    "plt.axis(\"equal\")\n",
    "plt.show()"
   ]
  },
  {
   "cell_type": "markdown",
   "metadata": {},
   "source": [
    "## Considering Relativistic Factors"
   ]
  },
  {
   "cell_type": "markdown",
   "metadata": {},
   "source": [
    "In the model above, we have neglected the effect of relativistic factors despite the fact that the protons travel at incredibly high speeds. By including the Lorentz factor, $\\gamma$, we can see what impact a relativistic increase in mass has on the proton's motion and velocity. The Lorentz factor is defined as the following: "
   ]
  },
  {
   "cell_type": "markdown",
   "metadata": {},
   "source": [
    "$$\n",
    "\\gamma = \\frac{1}{\\sqrt{1-\\frac{v^2}{c^2}}}\n",
    "$$\n",
    "\n",
    "The relativistc mass $m$ is given by the Lorentz factor and the mass at rest, $m_0$: \n",
    "\n",
    "$$\n",
    "m = \\gamma m_0\n",
    "$$\n",
    "\n",
    "To implement these changes, we create new simulation variables and arrays, and write a function for the Lorentz factor.  \n"
   ]
  },
  {
   "cell_type": "code",
   "execution_count": 10,
   "metadata": {},
   "outputs": [],
   "source": [
    "\"\"\"Initializing relativistic simulation\"\"\"\n",
    "tr = 0 #initialize time to 0 (relativistic)\n",
    "dtr = 5e-9 #Set timestep to 50 nanoseconds (relativistic)\n",
    "\n",
    "particleposr = np.array([0.0,0.0,0.0]) #Set the initial postition of the particle (relativistic)\n",
    "particlevr = np.array([1e-12,1e-12,0.0]) #Set the initial speed of the particle (relativistic)\n",
    "\n",
    "def gamma(v):\n",
    "    \"\"\"A simple function to return the Lorentz factor for a given velocity\"\"\"\n",
    "    return (1)/(np.sqrt(1-(np.linalg.norm(v)**2)/(c**2)))"
   ]
  },
  {
   "cell_type": "markdown",
   "metadata": {},
   "source": [
    "The core of the functions remain the same, but we want to be able to dictate whether relativistic factors should or should not be included by issuing an if/else-statement. "
   ]
  },
  {
   "cell_type": "code",
   "execution_count": 11,
   "metadata": {},
   "outputs": [],
   "source": [
    "\"\"\"Relativistic function for the LINAC\"\"\"\n",
    "\n",
    "def linac(U,l,m0,q,pos,v,v1,relativistic,t,dt,t0):\n",
    "    \"\"\"Simulates a Linear Accelerator by calculating the net force on\n",
    "       a particle and integrating its motion with Euler\"\"\"\n",
    "    posx = [pos[0]]\n",
    "    posy = [pos[1]]\n",
    "    speed = [np.linalg.norm(v)]\n",
    "    i = 0\n",
    "\n",
    "    while (np.linalg.norm(v) < v1):\n",
    "        if relativistic:\n",
    "            m = gamma(v)*m0\n",
    "            if t==t0:\n",
    "                print(\"Speed at non-relativistic end-time for %.f%% of light speed was %.2f%% of light speed\" % ((np.linalg.norm(v1)/c*100),(np.linalg.norm(v)/c*100)))\n",
    "        else:\n",
    "            m = m0\n",
    "        Fnet = (U*q)/l * v/np.linalg.norm(v)\n",
    "\n",
    "        v = v + Fnet*dt/m\n",
    "        pos = pos + v*dt\n",
    "\n",
    "        posx = np.append(posx,pos[0])\n",
    "        posy = np.append(posy,pos[1])\n",
    "        speed = np.append(speed, np.linalg.norm(v))\n",
    "\n",
    "        i += 1\n",
    "        t += dt\n",
    "\n",
    "        if np.linalg.norm(v) >= v1:\n",
    "            print(\"Reached %.0f m\" % np.linalg.norm(pos))\n",
    "            print(\"Reached %.2f%% of light speed in %0.f iterations. Time passed: %.2e seconds\" % ((np.linalg.norm(v)/c*100), i, t))\n",
    "            break\n",
    "        elif np.linalg.norm(pos) >= l - 1E-5:\n",
    "            print(\"Did not reach speed in 50 m\")\n",
    "            print(\"Final speed was %.2f%% of light speed in %0.f iterations. Time passed: %.2e seconds\" % ((np.linalg.norm(v)/c*100), i, t))\n",
    "            break\n",
    "\n",
    "    return posx, posy, pos, v, speed, t"
   ]
  },
  {
   "cell_type": "code",
   "execution_count": 12,
   "metadata": {},
   "outputs": [],
   "source": [
    "\"\"\"Relativistic function for a synchrotron\"\"\"\n",
    "\n",
    "def synchrotron(r,l,U,pos,v,v1,m0,q,clockwise,relativistic,t,dt,t0):\n",
    "    \"\"\"Simulation of a Synchrotron. Calculates the forces on a particle from a\n",
    "    mini-LINAC and from a dipole, and integrates its motion by utilizing Euler\"\"\"\n",
    "    posx = [pos[0]]\n",
    "    posy = [pos[1]]\n",
    "    speed = [np.linalg.norm(v)]\n",
    "    i = 0\n",
    "\n",
    "    while (np.linalg.norm(v) < v1):\n",
    "        if relativistic:\n",
    "            m = gamma(v)*m0\n",
    "            if t==t0:\n",
    "                print(\"Speed at non-relativistic end-time for %.f%% of light speed was %.2f%% of light speed\" % ((np.linalg.norm(v1)/c*100),(np.linalg.norm(v)/c*100)))\n",
    "        else:\n",
    "            m = m0\n",
    "        Fnet = (U*q)/l * (v)/(np.linalg.norm(v))\n",
    "        if clockwise:\n",
    "            B = np.array([0.0,0.0,(m*np.linalg.norm(v))/(q*r)])\n",
    "        else:\n",
    "            B = np.array([0.0,0.0,-(m*np.linalg.norm(v))/(q*r)])\n",
    "\n",
    "        Fnet += q*np.cross(v,B)\n",
    "\n",
    "        v = v + Fnet*dt/m\n",
    "        pos = pos + v*dt\n",
    "\n",
    "        posx = np.append(posx,pos[0])\n",
    "        posy = np.append(posy,pos[1])\n",
    "        speed = np.append(speed, np.linalg.norm(v))\n",
    "\n",
    "        t += dt\n",
    "        i += 1\n",
    "\n",
    "        if i >= 100000:\n",
    "            print(\"Did not reach %.f%% of light speed within %0.f iterations\" % ((np.linalg.norm(v1)/c*100),i))\n",
    "            break\n",
    "\n",
    "    print(\"Reached %.2f%% of light speed in %.0f iterations. Time passed: %.2e seconds\" % ((np.linalg.norm(v)/c*100), i, t))\n",
    "\n",
    "    return posx, posy, pos, v, speed, t"
   ]
  },
  {
   "cell_type": "markdown",
   "metadata": {},
   "source": [
    "We now call on the functions both with and without relativistic factors. This is because we want to compare the velocity when relativistic factors are included at the time when the protons reach their desired final speed ($0.99999c$) without relativistic factors. "
   ]
  },
  {
   "cell_type": "code",
   "execution_count": 13,
   "metadata": {
    "scrolled": true
   },
   "outputs": [
    {
     "name": "stdout",
     "output_type": "stream",
     "text": [
      "\n",
      "\n",
      "Non-relativistic\n",
      "\n",
      "LINAC2:\n",
      "\n",
      "Proton Synchrotron:\n",
      "Reached 100.00% of light speed in 0 iterations. Time passed: 6.08e-04 seconds\n",
      "\n",
      "Proton Transfer Tube:\n",
      "Transfered Proton successfully from Proton Synchrotron to Large Hadron Collider\n",
      "\n",
      "Large Hadron Collider:\n",
      "Reached 100.00% of light speed in 0 iterations. Time passed: 6.11e-04 seconds\n",
      "\n",
      "Action Report:\n",
      "The final speed of the proton was 100.00% of light speed.  The Lorentz factor was nan\n",
      "Time used was 6.106300e-04 seconds \n",
      "\n",
      "\n",
      "Relativistic\n",
      "\n",
      "LINAC2:\n",
      "Did not reach speed in 50 m\n",
      "Final speed was 29.66% of light speed in 2238 iterations. Time passed: 1.12e-05 seconds\n",
      "\n",
      "Proton Synchrotron:\n"
     ]
    },
    {
     "name": "stderr",
     "output_type": "stream",
     "text": [
      "/srv/conda/lib/python3.6/site-packages/ipykernel_launcher.py:10: RuntimeWarning: invalid value encountered in sqrt\n",
      "  # Remove the CWD from sys.path while we load stuff.\n"
     ]
    },
    {
     "name": "stdout",
     "output_type": "stream",
     "text": [
      "Reached 87.00% of light speed in 32919 iterations. Time passed: 1.76e-04 seconds\n",
      "\n",
      "Proton Transfer Tube:\n",
      "Transfered Proton successfully from Proton Synchrotron to Large Hadron Collider\n",
      "\n",
      "Large Hadron Collider:\n",
      "Speed at non-relativistic end-time for 100% of light speed was 92.45% of light speed\n",
      "Did not reach 100% of light speed within 100000 iterations\n",
      "Reached 93.18% of light speed in 100000 iterations. Time passed: 6.78e-04 seconds\n",
      "\n",
      "Action Report:\n",
      "The final speed of the proton was 93.18% of light speed.  The Lorentz factor was 2.76\n",
      "Time used was 6.782850e-04 seconds \n"
     ]
    }
   ],
   "source": [
    "\"\"\"Calling on non-relativistic functions\"\"\"\n",
    "\n",
    "print(\"\\n\\nNon-relativistic\")\n",
    "\n",
    "#Linear Accelerator 2\n",
    "print(\"\\nLINAC2:\")\n",
    "particleposxLINAC2, particleposyLINAC2, particlepos, particlev, particlespeedLINAC2, t  = linac(U0,l0,m0,q,particlepos,particlev,v0,False,t,dt,-1) #Calls the linac function with given variables to simulate CERN's LINAC2\n",
    "t0 = t\n",
    "\n",
    "#Proton Synchrotron\n",
    "print(\"\\nProton Synchrotron:\")\n",
    "particleposxPS, particleposyPS, particlepos, particlev, particlespeedPS, t = synchrotron(r1,l1,U1,particlepos,particlev,v1,m0,q,False,False,t,dt,-1) #Calls the synchrotron function with given variables to simulate CERN's Proton Synchrotron\n",
    "t1 = t\n",
    "\n",
    "#Proton Transfer Tube\n",
    "print(\"\\nProton Transfer Tube:\")\n",
    "particleposxPTT = [particlepos[0]]\n",
    "particleposyPTT = [particlepos[1]]\n",
    "for i in range(500):\n",
    "    particlepos += particlev*dt #Integrate the position of a particle using Euler\n",
    "    particleposxPTT = np.append(particleposxPTT, particlepos[0]) #append the x position to the x-position list\n",
    "    particleposyPTT = np.append(particleposyPTT, particlepos[1]) #append the y position to the y-position list\n",
    "    t += dt\n",
    "print(\"Transfered Proton successfully from Proton Synchrotron to Large Hadron Collider\")\n",
    "\n",
    "#Large Hadron Collider\n",
    "print(\"\\nLarge Hadron Collider:\")\n",
    "particleposxLHC, particleposyLHC, particlepos, particlev, particlespeeedLHC, t = synchrotron(r2,l2,U2,particlepos,particlev,v2,m0,q,True,False,t,dt,-1) #Calls the synchrotorn function with given variables to simulate CERN's Large Hadron Collider\n",
    "t2 = t\n",
    "\n",
    "print(\"\\nAction Report:\")\n",
    "print(\"The final speed of the proton was %.2f%% of light speed.  The Lorentz factor was %.2f\" %(np.linalg.norm(particlev)/c*100, gamma(np.linalg.norm(particlev))))\n",
    "print(\"Time used was %e seconds \" % t)\n",
    "\n",
    "\"\"\"Calling on relativistic functions\"\"\"\n",
    "\n",
    "print(\"\\n\\nRelativistic\")\n",
    "\n",
    "#Linear Accelerator 2\n",
    "print(\"\\nLINAC2:\")\n",
    "particleposxLINAC2r, particleposyLINAC2r, particleposr, particlevr, particlespeedLINAC2r, tr  = linac(U0,l0,m0,q,particleposr,particlevr,v0,True,tr,dtr,t0) #Calls the linac function with given variables to simulate CERN's LINAC2 (relativistic)\n",
    "\n",
    "#Proton Synchrotron\n",
    "print(\"\\nProton Synchrotron:\")\n",
    "particleposxPSr, particleposyPSr, particleposr, particlevr, particlespeedPSr, tr = synchrotron(r1,l1,U1,particleposr,particlevr,v1,m0,q,False,True,tr,dtr,t1) #Calls the synchrotron function with given variables to simulate CERN's Proton Synchrotron (relativistic)\n",
    "\n",
    "#Proton Transfer Tube\n",
    "print(\"\\nProton Transfer Tube:\")\n",
    "particleposxPTTr = [particleposr[0]]\n",
    "particleposyPTTr = [particleposr[1]]\n",
    "for i in range(500):\n",
    "    particleposr += particlevr*dtr #Integrate the position of a particle using Euler\n",
    "    particleposxPTTr = np.append(particleposxPTTr, particleposr[0]) #append the x position to the x-position list\n",
    "    particleposyPTTr = np.append(particleposyPTTr, particleposr[1]) #append the y position to the y-position list\n",
    "    tr += dtr\n",
    "print(\"Transfered Proton successfully from Proton Synchrotron to Large Hadron Collider\")\n",
    "\n",
    "#Large Hadron Collider\n",
    "print(\"\\nLarge Hadron Collider:\")\n",
    "particleposxLHCr, particleposyLHCr, particleposr, particlevr, particlespeeedLHCr, tr = synchrotron(r2,l2,U2,particleposr,particlevr,v2,m0,q,True,True,tr,dtr,t2) #Calls the synchrotorn function with given variables to simulate CERN's Large Hadron Collider (relativistic)\n",
    "\n",
    "print(\"\\nAction Report:\")\n",
    "print(\"The final speed of the proton was %.2f%% of light speed.  The Lorentz factor was %.2f\" %(np.linalg.norm(particlevr)/c*100, gamma(np.linalg.norm(particlevr))))\n",
    "print(\"Time used was %e seconds \" % tr)"
   ]
  },
  {
   "cell_type": "markdown",
   "metadata": {},
   "source": [
    "The resulting motion now changes, as we can also observe in the plot below. "
   ]
  },
  {
   "cell_type": "code",
   "execution_count": 14,
   "metadata": {},
   "outputs": [
    {
     "data": {
      "image/png": "[encoded data removed]",
      "text/plain": [
       "<Figure size 432x288 with 1 Axes>"
      ]
     },
     "metadata": {
      "needs_background": "light"
     },
     "output_type": "display_data"
    }
   ],
   "source": [
    "\"\"\"Plot showing x and y, relativstic\"\"\"\n",
    "plt.plot(particleposxLINAC2r[0], particleposyLINAC2r[0], \"o\", label=\"LINAC2 Entry\")\n",
    "plt.plot(particleposxLINAC2r, particleposyLINAC2r, \"b\", label=\"LINAC2 Trajectory\") #create the plot\n",
    "plt.plot(particleposxLINAC2r[-1], particleposyLINAC2r[-1], \"o\", label=\"LINAC2 Exit/PS Entry\")\n",
    "\n",
    "plt.plot(particleposxPSr, particleposyPSr, \"g\", label=\"PS Trajectory\") #create the plot\n",
    "plt.plot(particleposxPSr[-1], particleposyPSr[-1], \"o\", label=\"PS Exit\")\n",
    "\n",
    "plt.plot(particleposxPTTr, particleposyPTTr, \"r\", label=\"PTT Trajectory\") #create the plot\n",
    "\n",
    "plt.plot(particleposxLHCr[0], particleposyLHCr[0], \"o\", label=\"LHC Entry\")\n",
    "plt.plot(particleposxLHCr, particleposyLHCr, \"k\" , label=\"LHC Trajectory\") #create the plot\n",
    "plt.plot(particleposxLHCr[-1], particleposyLHCr[-1], \"oy\", label=\"End of the Proton's Journey\")\n",
    "\n",
    "plt.xlabel(\"x position [m]\")\n",
    "plt.ylabel(\"y position [m]\")\n",
    "plt.title(\"Trajectory of a proton in a Particle Accelerator (relativistic)\")\n",
    "plt.legend()\n",
    "plt.axis(\"equal\")\n",
    "plt.show()"
   ]
  },
  {
   "cell_type": "markdown",
   "metadata": {},
   "source": [
    "## Conclusion\n",
    "\n",
    "We feel that our attempt at creating a (very) simplified model of the particle accelerator was quite successful. Despite lacking many of the actual components, the simulation is able to imitate the workings of the complex to successively accelerate the proton. The implementation of the magnetic field to rotate the path of the protons was perhaps the least accurate one, as we could not find any detailed information regarding the set-up of the dipoles. However, it seems that the protons stay on their circular path while accelerating to the desired end speed, which is what we wanted.  \n",
    "\n",
    "From the investigation we were able to observe the effects of varying the diffrent physical parameters that were sent as input arguments to the accelerators. With voltages as defined in the program above, the protons reach $0.99999c$ in 61 milliseconds when relativistic factors are ignored. However, when taking these into account, the protons are not able to reach the desired end-speed even in the first LINAC and move at 93.18% of the speed of light at the time when non-relativistic protons achieve 99.999%. \n",
    "\n",
    "The exit position of the protons differs when relativistic factors are included because more time is required to reach the desired exit-velocity. However, it is not realistic that the protons leave its accelerator immediately when this velocity is achieved. An improvement to the model would be to define the exit-position and keep the protons circulating with the final velocity until this positioned was reached. It would then be possible to compare how many rounds in the PS and the HLC were needed when relativistic factors were and were not included.  "
   ]
  }
 ],
 "metadata": {
  "kernelspec": {
   "display_name": "Python 3",
   "language": "python",
   "name": "python3"
  },
  "language_info": {
   "codemirror_mode": {
    "name": "ipython",
    "version": 3
   },
   "file_extension": ".py",
   "mimetype": "text/x-python",
   "name": "python",
   "nbconvert_exporter": "python",
   "pygments_lexer": "ipython3",
   "version": "3.6.4"
  }
 },
 "nbformat": 4,
 "nbformat_minor": 2
}
