{
 "cells": [
  {
   "cell_type": "markdown",
   "metadata": {},
   "source": [
    "## Bouncing ball visualized using VPython\n",
    "\n",
    "Example taken from here: https://github.com/BruceSherwood/vpython-jupyter/blob/master/Demos/Bounce-VPython.ipynb"
   ]
  },
  {
   "cell_type": "code",
   "execution_count": 7,
   "metadata": {},
   "outputs": [],
   "source": [
    "#%run DoublePendulum.py\n"
   ]
  },
  {
   "cell_type": "code",
   "execution_count": 19,
   "metadata": {},
   "outputs": [
    {
     "data": {
      "text/html": [
       "<div id=\"glowscript\" class=\"glowscript\"></div>"
      ],
      "text/plain": [
       "<IPython.core.display.HTML object>"
      ]
     },
     "metadata": {},
     "output_type": "display_data"
    },
    {
     "data": {
      "application/javascript": [
       "if (typeof Jupyter !== \"undefined\") { window.__context = { glowscript_container: $(\"#glowscript\").removeAttr(\"id\")};}else{ element.textContent = ' ';}"
      ],
      "text/plain": [
       "<IPython.core.display.Javascript object>"
      ]
     },
     "metadata": {},
     "output_type": "display_data"
    },
    {
     "data": {
      "text/plain": [
       "<os._wrap_close at 0x7f72e1c32c50>"
      ]
     },
     "execution_count": 19,
     "metadata": {},
     "output_type": "execute_result"
    }
   ],
   "source": [
    "from vpython import *\n",
    "scene = canvas() # This is needed in Jupyter notebook and lab to make programs easily rerunnable\n",
    "scene.caption = \"\"\"Right button drag or Ctrl-drag to rotate \"camera\" to view scene.\n",
    "To zoom, drag with middle button or Alt/Option depressed, or use scroll wheel.\n",
    "     On a two-button mouse, middle is left + right.\n",
    "Touch screen: pinch/extend to zoom, swipe or two-finger rotate.\"\"\"\n",
    "\n",
    "side = 4.0\n",
    "thk = 0.3\n",
    "s2 = 2*side - thk\n",
    "s3 = 2*side + thk\n",
    "wallR = box (pos=vector( side, 0, 0), size=vector(thk, s2, s3),  color = color.red)\n",
    "wallL = box (pos=vector(-side, 0, 0), size=vector(thk, s2, s3),  color = color.red)\n",
    "wallB = box (pos=vector(0, -side, 0), size=vector(s3, thk, s3),  color = color.blue)\n",
    "wallT = box (pos=vector(0,  side, 0), size=vector(s3, thk, s3),  color = color.blue)\n",
    "wallBK = box(pos=vector(0, 0, -side), size=vector(s2, s2, thk), color = color.gray(0.7))\n",
    "\n",
    "ball = sphere (color = color.green, radius = 0.4, make_trail=True, retain=100)\n",
    "ball.mass = 1.0\n",
    "ball.p = vector(-0.15, -0.23, +0.27)\n",
    "side = side - thk*0.5 - ball.radius\n",
    "\n",
    "dt = 0.3\n",
    "t = 0.0\n",
    "while t<500:\n",
    "    rate(200)\n",
    "    t = t + dt\n",
    "    ball.pos = ball.pos + (ball.p/ball.mass)*dt\n",
    "    if not (side > ball.pos.x > -side):\n",
    "        ball.p.x = -ball.p.x\n",
    "    if not (side > ball.pos.y > -side):\n",
    "        ball.p.y = -ball.p.y\n",
    "    if not (side > ball.pos.z > -side):\n",
    "        ball.p.z = -ball.p.z"
   ]
  },
  {
   "cell_type": "code",
   "execution_count": 20,
   "metadata": {},
   "outputs": [],
   "source": [
    "## pip install Pillow --user\n",
    "import PIL.Image\n",
    "import os\n",
    "#import time\n",
    "dt = 0.3\n",
    "t = 0.0\n",
    "while t<50:\n",
    "    rate(200)\n",
    "    t = t + dt\n",
    "    ball.pos = ball.pos + (ball.p/ball.mass)*dt\n",
    "    if not (side > ball.pos.x > -side):\n",
    "        ball.p.x = -ball.p.x\n",
    "    if not (side > ball.pos.y > -side):\n",
    "        ball.p.y = -ball.p.y\n",
    "    if not (side > ball.pos.z > -side):\n",
    "        ball.p.z = -ball.p.z\n",
    "    os.popen('import -window 0x5200026 frames/vp'+str(t).zfill(4)+'.gif')\n",
    "    #time.sleep(1)\n",
    "\n",
    "#import PIL.ImageGrab  #OSX and WIN\n",
    "#im = ImageGrab.grab((0,0,500,500))  # screen box from (0,0)-(500,500)\n",
    "#im.save('img-xxx.png')              # save image to disk, xxx=img number, e.g. 000-200 "
   ]
  },
  {
   "cell_type": "code",
   "execution_count": 21,
   "metadata": {},
   "outputs": [
    {
     "name": "stderr",
     "output_type": "stream",
     "text": [
      "convert-im6.q16: DistributedPixelCache '127.0.0.1' @ error/distribute-cache.c/ConnectPixelCacheServer/244.\n",
      "convert-im6.q16: cache resources exhausted `frames/vp29.40000000000005.gif' @ error/cache.c/OpenPixelCache/3984.\n",
      "convert-im6.q16: DistributedPixelCache '127.0.0.1' @ error/distribute-cache.c/ConnectPixelCacheServer/244.\n",
      "convert-im6.q16: cache resources exhausted `frames/vp29.70000000000005.gif' @ error/cache.c/OpenPixelCache/3984.\n",
      "convert-im6.q16: DistributedPixelCache '127.0.0.1' @ error/distribute-cache.c/ConnectPixelCacheServer/244.\n",
      "convert-im6.q16: cache resources exhausted `frames/vp2.9999999999999996.gif' @ error/cache.c/OpenPixelCache/3984.\n",
      "convert-im6.q16: DistributedPixelCache '127.0.0.1' @ error/distribute-cache.c/ConnectPixelCacheServer/244.\n",
      "convert-im6.q16: cache resources exhausted `frames/vp30.60000000000005.gif' @ error/cache.c/OpenPixelCache/3984.\n",
      "convert-im6.q16: DistributedPixelCache '127.0.0.1' @ error/distribute-cache.c/ConnectPixelCacheServer/244.\n",
      "convert-im6.q16: cache resources exhausted `frames/vp30.900000000000052.gif' @ error/cache.c/OpenPixelCache/3984.\n",
      "convert-im6.q16: DistributedPixelCache '127.0.0.1' @ error/distribute-cache.c/ConnectPixelCacheServer/244.\n",
      "convert-im6.q16: cache resources exhausted `frames/vp31.800000000000054.gif' @ error/cache.c/OpenPixelCache/3984.\n",
      "convert-im6.q16: DistributedPixelCache '127.0.0.1' @ error/distribute-cache.c/ConnectPixelCacheServer/244.\n",
      "convert-im6.q16: cache resources exhausted `frames/vp3.2999999999999994.gif' @ error/cache.c/OpenPixelCache/3984.\n",
      "convert-im6.q16: DistributedPixelCache '127.0.0.1' @ error/distribute-cache.c/ConnectPixelCacheServer/244.\n",
      "convert-im6.q16: cache resources exhausted `frames/vp33.00000000000004.gif' @ error/cache.c/OpenPixelCache/3984.\n",
      "convert-im6.q16: DistributedPixelCache '127.0.0.1' @ error/distribute-cache.c/ConnectPixelCacheServer/244.\n",
      "convert-im6.q16: cache resources exhausted `frames/vp34.20000000000003.gif' @ error/cache.c/OpenPixelCache/3984.\n",
      "convert-im6.q16: DistributedPixelCache '127.0.0.1' @ error/distribute-cache.c/ConnectPixelCacheServer/244.\n",
      "convert-im6.q16: cache resources exhausted `frames/vp34.800000000000026.gif' @ error/cache.c/OpenPixelCache/3984.\n",
      "convert-im6.q16: DistributedPixelCache '127.0.0.1' @ error/distribute-cache.c/ConnectPixelCacheServer/244.\n",
      "convert-im6.q16: cache resources exhausted `frames/vp35.40000000000002.gif' @ error/cache.c/OpenPixelCache/3984.\n",
      "convert-im6.q16: DistributedPixelCache '127.0.0.1' @ error/distribute-cache.c/ConnectPixelCacheServer/244.\n",
      "convert-im6.q16: cache resources exhausted `frames/vp3.599999999999999.gif' @ error/cache.c/OpenPixelCache/3984.\n",
      "convert-im6.q16: DistributedPixelCache '127.0.0.1' @ error/distribute-cache.c/ConnectPixelCacheServer/244.\n",
      "convert-im6.q16: cache resources exhausted `frames/vp36.30000000000001.gif' @ error/cache.c/OpenPixelCache/3984.\n",
      "convert-im6.q16: DistributedPixelCache '127.0.0.1' @ error/distribute-cache.c/ConnectPixelCacheServer/244.\n",
      "convert-im6.q16: cache resources exhausted `frames/vp36.60000000000001.gif' @ error/cache.c/OpenPixelCache/3984.\n",
      "convert-im6.q16: DistributedPixelCache '127.0.0.1' @ error/distribute-cache.c/ConnectPixelCacheServer/244.\n",
      "convert-im6.q16: cache resources exhausted `frames/vp37.2.gif' @ error/cache.c/OpenPixelCache/3984.\n",
      "convert-im6.q16: DistributedPixelCache '127.0.0.1' @ error/distribute-cache.c/ConnectPixelCacheServer/244.\n",
      "convert-im6.q16: cache resources exhausted `frames/vp37.5.gif' @ error/cache.c/OpenPixelCache/3984.\n",
      "convert-im6.q16: DistributedPixelCache '127.0.0.1' @ error/distribute-cache.c/ConnectPixelCacheServer/244.\n",
      "convert-im6.q16: cache resources exhausted `frames/vp38.099999999999994.gif' @ error/cache.c/OpenPixelCache/3984.\n",
      "convert-im6.q16: DistributedPixelCache '127.0.0.1' @ error/distribute-cache.c/ConnectPixelCacheServer/244.\n",
      "convert-im6.q16: cache resources exhausted `frames/vp38.39999999999999.gif' @ error/cache.c/OpenPixelCache/3984.\n",
      "convert-im6.q16: DistributedPixelCache '127.0.0.1' @ error/distribute-cache.c/ConnectPixelCacheServer/244.\n",
      "convert-im6.q16: cache resources exhausted `frames/vp3.899999999999999.gif' @ error/cache.c/OpenPixelCache/3984.\n",
      "convert-im6.q16: DistributedPixelCache '127.0.0.1' @ error/distribute-cache.c/ConnectPixelCacheServer/244.\n",
      "convert-im6.q16: cache resources exhausted `frames/vp39.29999999999998.gif' @ error/cache.c/OpenPixelCache/3984.\n",
      "convert-im6.q16: DistributedPixelCache '127.0.0.1' @ error/distribute-cache.c/ConnectPixelCacheServer/244.\n",
      "convert-im6.q16: cache resources exhausted `frames/vp4.199999999999999.gif' @ error/cache.c/OpenPixelCache/3984.\n",
      "convert-im6.q16: DistributedPixelCache '127.0.0.1' @ error/distribute-cache.c/ConnectPixelCacheServer/244.\n",
      "convert-im6.q16: cache resources exhausted `frames/vp42.89999999999995.gif' @ error/cache.c/OpenPixelCache/3984.\n",
      "convert-im6.q16: DistributedPixelCache '127.0.0.1' @ error/distribute-cache.c/ConnectPixelCacheServer/244.\n",
      "convert-im6.q16: cache resources exhausted `frames/vp4.499999999999999.gif' @ error/cache.c/OpenPixelCache/3984.\n",
      "convert-im6.q16: DistributedPixelCache '127.0.0.1' @ error/distribute-cache.c/ConnectPixelCacheServer/244.\n",
      "convert-im6.q16: cache resources exhausted `frames/vp47.09999999999991.gif' @ error/cache.c/OpenPixelCache/3984.\n",
      "convert-im6.q16: DistributedPixelCache '127.0.0.1' @ error/distribute-cache.c/ConnectPixelCacheServer/244.\n",
      "convert-im6.q16: cache resources exhausted `frames/vp47.399999999999906.gif' @ error/cache.c/OpenPixelCache/3984.\n",
      "convert-im6.q16: DistributedPixelCache '127.0.0.1' @ error/distribute-cache.c/ConnectPixelCacheServer/244.\n",
      "convert-im6.q16: cache resources exhausted `frames/vp47.6999999999999.gif' @ error/cache.c/OpenPixelCache/3984.\n",
      "convert-im6.q16: DistributedPixelCache '127.0.0.1' @ error/distribute-cache.c/ConnectPixelCacheServer/244.\n",
      "convert-im6.q16: cache resources exhausted `frames/vp4.799999999999999.gif' @ error/cache.c/OpenPixelCache/3984.\n",
      "convert-im6.q16: DistributedPixelCache '127.0.0.1' @ error/distribute-cache.c/ConnectPixelCacheServer/244.\n",
      "convert-im6.q16: cache resources exhausted `frames/vp47.9999999999999.gif' @ error/cache.c/OpenPixelCache/3984.\n",
      "convert-im6.q16: DistributedPixelCache '127.0.0.1' @ error/distribute-cache.c/ConnectPixelCacheServer/244.\n",
      "convert-im6.q16: cache resources exhausted `frames/vp49.499999999999886.gif' @ error/cache.c/OpenPixelCache/3984.\n",
      "convert-im6.q16: DistributedPixelCache '127.0.0.1' @ error/distribute-cache.c/ConnectPixelCacheServer/244.\n",
      "convert-im6.q16: cache resources exhausted `frames/vp49.79999999999988.gif' @ error/cache.c/OpenPixelCache/3984.\n",
      "convert-im6.q16: DistributedPixelCache '127.0.0.1' @ error/distribute-cache.c/ConnectPixelCacheServer/244.\n",
      "convert-im6.q16: cache resources exhausted `frames/vp5.099999999999999.gif' @ error/cache.c/OpenPixelCache/3984.\n",
      "convert-im6.q16: DistributedPixelCache '127.0.0.1' @ error/distribute-cache.c/ConnectPixelCacheServer/244.\n",
      "convert-im6.q16: cache resources exhausted `frames/vp5.399999999999999.gif' @ error/cache.c/OpenPixelCache/3984.\n",
      "convert-im6.q16: DistributedPixelCache '127.0.0.1' @ error/distribute-cache.c/ConnectPixelCacheServer/244.\n",
      "convert-im6.q16: cache resources exhausted `frames/vp5.699999999999998.gif' @ error/cache.c/OpenPixelCache/3984.\n",
      "convert-im6.q16: DistributedPixelCache '127.0.0.1' @ error/distribute-cache.c/ConnectPixelCacheServer/244.\n",
      "convert-im6.q16: cache resources exhausted `frames/vp5.999999999999998.gif' @ error/cache.c/OpenPixelCache/3984.\n",
      "convert-im6.q16: DistributedPixelCache '127.0.0.1' @ error/distribute-cache.c/ConnectPixelCacheServer/244.\n",
      "convert-im6.q16: cache resources exhausted `frames/vp6.299999999999998.gif' @ error/cache.c/OpenPixelCache/3984.\n",
      "convert-im6.q16: DistributedPixelCache '127.0.0.1' @ error/distribute-cache.c/ConnectPixelCacheServer/244.\n",
      "convert-im6.q16: cache resources exhausted `frames/vp6.599999999999998.gif' @ error/cache.c/OpenPixelCache/3984.\n",
      "convert-im6.q16: DistributedPixelCache '127.0.0.1' @ error/distribute-cache.c/ConnectPixelCacheServer/244.\n",
      "convert-im6.q16: cache resources exhausted `frames/vp6.899999999999998.gif' @ error/cache.c/OpenPixelCache/3984.\n",
      "convert-im6.q16: DistributedPixelCache '127.0.0.1' @ error/distribute-cache.c/ConnectPixelCacheServer/244.\n",
      "convert-im6.q16: cache resources exhausted `frames/vp7.1999999999999975.gif' @ error/cache.c/OpenPixelCache/3984.\n",
      "convert-im6.q16: DistributedPixelCache '127.0.0.1' @ error/distribute-cache.c/ConnectPixelCacheServer/244.\n",
      "convert-im6.q16: cache resources exhausted `frames/vp7.499999999999997.gif' @ error/cache.c/OpenPixelCache/3984.\n",
      "convert-im6.q16: DistributedPixelCache '127.0.0.1' @ error/distribute-cache.c/ConnectPixelCacheServer/244.\n",
      "convert-im6.q16: cache resources exhausted `frames/vp7.799999999999997.gif' @ error/cache.c/OpenPixelCache/3984.\n",
      "convert-im6.q16: DistributedPixelCache '127.0.0.1' @ error/distribute-cache.c/ConnectPixelCacheServer/244.\n",
      "convert-im6.q16: cache resources exhausted `frames/vp8.099999999999998.gif' @ error/cache.c/OpenPixelCache/3984.\n",
      "convert-im6.q16: DistributedPixelCache '127.0.0.1' @ error/distribute-cache.c/ConnectPixelCacheServer/244.\n",
      "convert-im6.q16: cache resources exhausted `frames/vp8.399999999999999.gif' @ error/cache.c/OpenPixelCache/3984.\n",
      "convert-im6.q16: DistributedPixelCache '127.0.0.1' @ error/distribute-cache.c/ConnectPixelCacheServer/244.\n",
      "convert-im6.q16: cache resources exhausted `frames/vp9.600000000000001.gif' @ error/cache.c/OpenPixelCache/3984.\n",
      "convert-im6.q16: DistributedPixelCache '127.0.0.1' @ error/distribute-cache.c/ConnectPixelCacheServer/244.\n",
      "convert-im6.q16: cache resources exhausted `frames/vp9.900000000000002.gif' @ error/cache.c/OpenPixelCache/3984.\n"
     ]
    }
   ],
   "source": [
    "#%%bash\n",
    "#convert -delay 50 -loop 0 frames/vp*.gif output.gif"
   ]
  }
 ],
 "metadata": {
  "kernelspec": {
   "display_name": "Python 3",
   "language": "python",
   "name": "python3"
  },
  "language_info": {
   "codemirror_mode": {
    "name": "ipython",
    "version": 3
   },
   "file_extension": ".py",
   "mimetype": "text/x-python",
   "name": "python",
   "nbconvert_exporter": "python",
   "pygments_lexer": "ipython3",
   "version": "3.6.7"
  }
 },
 "nbformat": 4,
 "nbformat_minor": 2
}
